{
  "nbformat": 4,
  "nbformat_minor": 0,
  "metadata": {
    "colab": {
      "provenance": [],
      "authorship_tag": "ABX9TyNlQwZMFrRB3ZMjui6B5U6q",
      "include_colab_link": true
    },
    "kernelspec": {
      "name": "python3",
      "display_name": "Python 3"
    },
    "language_info": {
      "name": "python"
    }
  },
  "cells": [
    {
      "cell_type": "markdown",
      "metadata": {
        "id": "view-in-github",
        "colab_type": "text"
      },
      "source": [
        "<a href=\"https://colab.research.google.com/github/Beda3113/-/blob/main/Untitled2.ipynb\" target=\"_parent\"><img src=\"https://colab.research.google.com/assets/colab-badge.svg\" alt=\"Open In Colab\"/></a>"
      ]
    },
    {
      "cell_type": "markdown",
      "source": [
        "## **Разведочный анализ данных**"
      ],
      "metadata": {
        "id": "-OML0iL0nRiX"
      }
    },
    {
      "cell_type": "markdown",
      "source": [
        "# Библиотеки на проект"
      ],
      "metadata": {
        "id": "BgLQ3e4cmZIm"
      }
    },
    {
      "cell_type": "code",
      "execution_count": 43,
      "metadata": {
        "colab": {
          "base_uri": "https://localhost:8080/"
        },
        "id": "8mKqPuu9VoAB",
        "outputId": "dad14913-f26d-4c81-f485-5bb0745ee172",
        "collapsed": true
      },
      "outputs": [
        {
          "output_type": "stream",
          "name": "stdout",
          "text": [
            "Requirement already satisfied: pandas in /usr/local/lib/python3.10/dist-packages (2.2.2)\n",
            "Requirement already satisfied: pyarrow in /usr/local/lib/python3.10/dist-packages (17.0.0)\n",
            "Requirement already satisfied: numpy>=1.22.4 in /usr/local/lib/python3.10/dist-packages (from pandas) (1.26.4)\n",
            "Requirement already satisfied: python-dateutil>=2.8.2 in /usr/local/lib/python3.10/dist-packages (from pandas) (2.8.2)\n",
            "Requirement already satisfied: pytz>=2020.1 in /usr/local/lib/python3.10/dist-packages (from pandas) (2024.2)\n",
            "Requirement already satisfied: tzdata>=2022.7 in /usr/local/lib/python3.10/dist-packages (from pandas) (2024.2)\n",
            "Requirement already satisfied: six>=1.5 in /usr/local/lib/python3.10/dist-packages (from python-dateutil>=2.8.2->pandas) (1.16.0)\n",
            "Requirement already satisfied: datasets in /usr/local/lib/python3.10/dist-packages (3.1.0)\n",
            "Requirement already satisfied: filelock in /usr/local/lib/python3.10/dist-packages (from datasets) (3.16.1)\n",
            "Requirement already satisfied: numpy>=1.17 in /usr/local/lib/python3.10/dist-packages (from datasets) (1.26.4)\n",
            "Requirement already satisfied: pyarrow>=15.0.0 in /usr/local/lib/python3.10/dist-packages (from datasets) (17.0.0)\n",
            "Requirement already satisfied: dill<0.3.9,>=0.3.0 in /usr/local/lib/python3.10/dist-packages (from datasets) (0.3.8)\n",
            "Requirement already satisfied: pandas in /usr/local/lib/python3.10/dist-packages (from datasets) (2.2.2)\n",
            "Requirement already satisfied: requests>=2.32.2 in /usr/local/lib/python3.10/dist-packages (from datasets) (2.32.3)\n",
            "Requirement already satisfied: tqdm>=4.66.3 in /usr/local/lib/python3.10/dist-packages (from datasets) (4.66.6)\n",
            "Requirement already satisfied: xxhash in /usr/local/lib/python3.10/dist-packages (from datasets) (3.5.0)\n",
            "Requirement already satisfied: multiprocess<0.70.17 in /usr/local/lib/python3.10/dist-packages (from datasets) (0.70.16)\n",
            "Requirement already satisfied: fsspec<=2024.9.0,>=2023.1.0 in /usr/local/lib/python3.10/dist-packages (from fsspec[http]<=2024.9.0,>=2023.1.0->datasets) (2024.9.0)\n",
            "Requirement already satisfied: aiohttp in /usr/local/lib/python3.10/dist-packages (from datasets) (3.10.10)\n",
            "Requirement already satisfied: huggingface-hub>=0.23.0 in /usr/local/lib/python3.10/dist-packages (from datasets) (0.24.7)\n",
            "Requirement already satisfied: packaging in /usr/local/lib/python3.10/dist-packages (from datasets) (24.1)\n",
            "Requirement already satisfied: pyyaml>=5.1 in /usr/local/lib/python3.10/dist-packages (from datasets) (6.0.2)\n",
            "Requirement already satisfied: aiohappyeyeballs>=2.3.0 in /usr/local/lib/python3.10/dist-packages (from aiohttp->datasets) (2.4.3)\n",
            "Requirement already satisfied: aiosignal>=1.1.2 in /usr/local/lib/python3.10/dist-packages (from aiohttp->datasets) (1.3.1)\n",
            "Requirement already satisfied: attrs>=17.3.0 in /usr/local/lib/python3.10/dist-packages (from aiohttp->datasets) (24.2.0)\n",
            "Requirement already satisfied: frozenlist>=1.1.1 in /usr/local/lib/python3.10/dist-packages (from aiohttp->datasets) (1.5.0)\n",
            "Requirement already satisfied: multidict<7.0,>=4.5 in /usr/local/lib/python3.10/dist-packages (from aiohttp->datasets) (6.1.0)\n",
            "Requirement already satisfied: yarl<2.0,>=1.12.0 in /usr/local/lib/python3.10/dist-packages (from aiohttp->datasets) (1.17.0)\n",
            "Requirement already satisfied: async-timeout<5.0,>=4.0 in /usr/local/lib/python3.10/dist-packages (from aiohttp->datasets) (4.0.3)\n",
            "Requirement already satisfied: typing-extensions>=3.7.4.3 in /usr/local/lib/python3.10/dist-packages (from huggingface-hub>=0.23.0->datasets) (4.12.2)\n",
            "Requirement already satisfied: charset-normalizer<4,>=2 in /usr/local/lib/python3.10/dist-packages (from requests>=2.32.2->datasets) (3.4.0)\n",
            "Requirement already satisfied: idna<4,>=2.5 in /usr/local/lib/python3.10/dist-packages (from requests>=2.32.2->datasets) (3.10)\n",
            "Requirement already satisfied: urllib3<3,>=1.21.1 in /usr/local/lib/python3.10/dist-packages (from requests>=2.32.2->datasets) (2.2.3)\n",
            "Requirement already satisfied: certifi>=2017.4.17 in /usr/local/lib/python3.10/dist-packages (from requests>=2.32.2->datasets) (2024.8.30)\n",
            "Requirement already satisfied: python-dateutil>=2.8.2 in /usr/local/lib/python3.10/dist-packages (from pandas->datasets) (2.8.2)\n",
            "Requirement already satisfied: pytz>=2020.1 in /usr/local/lib/python3.10/dist-packages (from pandas->datasets) (2024.2)\n",
            "Requirement already satisfied: tzdata>=2022.7 in /usr/local/lib/python3.10/dist-packages (from pandas->datasets) (2024.2)\n",
            "Requirement already satisfied: six>=1.5 in /usr/local/lib/python3.10/dist-packages (from python-dateutil>=2.8.2->pandas->datasets) (1.16.0)\n",
            "Requirement already satisfied: propcache>=0.2.0 in /usr/local/lib/python3.10/dist-packages (from yarl<2.0,>=1.12.0->aiohttp->datasets) (0.2.0)\n",
            "Requirement already satisfied: datasets in /usr/local/lib/python3.10/dist-packages (3.1.0)\n",
            "Requirement already satisfied: pandas in /usr/local/lib/python3.10/dist-packages (2.2.2)\n",
            "Requirement already satisfied: matplotlib in /usr/local/lib/python3.10/dist-packages (3.8.0)\n",
            "Requirement already satisfied: pillow in /usr/local/lib/python3.10/dist-packages (10.4.0)\n",
            "Requirement already satisfied: filelock in /usr/local/lib/python3.10/dist-packages (from datasets) (3.16.1)\n",
            "Requirement already satisfied: numpy>=1.17 in /usr/local/lib/python3.10/dist-packages (from datasets) (1.26.4)\n",
            "Requirement already satisfied: pyarrow>=15.0.0 in /usr/local/lib/python3.10/dist-packages (from datasets) (17.0.0)\n",
            "Requirement already satisfied: dill<0.3.9,>=0.3.0 in /usr/local/lib/python3.10/dist-packages (from datasets) (0.3.8)\n",
            "Requirement already satisfied: requests>=2.32.2 in /usr/local/lib/python3.10/dist-packages (from datasets) (2.32.3)\n",
            "Requirement already satisfied: tqdm>=4.66.3 in /usr/local/lib/python3.10/dist-packages (from datasets) (4.66.6)\n",
            "Requirement already satisfied: xxhash in /usr/local/lib/python3.10/dist-packages (from datasets) (3.5.0)\n",
            "Requirement already satisfied: multiprocess<0.70.17 in /usr/local/lib/python3.10/dist-packages (from datasets) (0.70.16)\n",
            "Requirement already satisfied: fsspec<=2024.9.0,>=2023.1.0 in /usr/local/lib/python3.10/dist-packages (from fsspec[http]<=2024.9.0,>=2023.1.0->datasets) (2024.9.0)\n",
            "Requirement already satisfied: aiohttp in /usr/local/lib/python3.10/dist-packages (from datasets) (3.10.10)\n",
            "Requirement already satisfied: huggingface-hub>=0.23.0 in /usr/local/lib/python3.10/dist-packages (from datasets) (0.24.7)\n",
            "Requirement already satisfied: packaging in /usr/local/lib/python3.10/dist-packages (from datasets) (24.1)\n",
            "Requirement already satisfied: pyyaml>=5.1 in /usr/local/lib/python3.10/dist-packages (from datasets) (6.0.2)\n",
            "Requirement already satisfied: python-dateutil>=2.8.2 in /usr/local/lib/python3.10/dist-packages (from pandas) (2.8.2)\n",
            "Requirement already satisfied: pytz>=2020.1 in /usr/local/lib/python3.10/dist-packages (from pandas) (2024.2)\n",
            "Requirement already satisfied: tzdata>=2022.7 in /usr/local/lib/python3.10/dist-packages (from pandas) (2024.2)\n",
            "Requirement already satisfied: contourpy>=1.0.1 in /usr/local/lib/python3.10/dist-packages (from matplotlib) (1.3.0)\n",
            "Requirement already satisfied: cycler>=0.10 in /usr/local/lib/python3.10/dist-packages (from matplotlib) (0.12.1)\n",
            "Requirement already satisfied: fonttools>=4.22.0 in /usr/local/lib/python3.10/dist-packages (from matplotlib) (4.54.1)\n",
            "Requirement already satisfied: kiwisolver>=1.0.1 in /usr/local/lib/python3.10/dist-packages (from matplotlib) (1.4.7)\n",
            "Requirement already satisfied: pyparsing>=2.3.1 in /usr/local/lib/python3.10/dist-packages (from matplotlib) (3.2.0)\n",
            "Requirement already satisfied: aiohappyeyeballs>=2.3.0 in /usr/local/lib/python3.10/dist-packages (from aiohttp->datasets) (2.4.3)\n",
            "Requirement already satisfied: aiosignal>=1.1.2 in /usr/local/lib/python3.10/dist-packages (from aiohttp->datasets) (1.3.1)\n",
            "Requirement already satisfied: attrs>=17.3.0 in /usr/local/lib/python3.10/dist-packages (from aiohttp->datasets) (24.2.0)\n",
            "Requirement already satisfied: frozenlist>=1.1.1 in /usr/local/lib/python3.10/dist-packages (from aiohttp->datasets) (1.5.0)\n",
            "Requirement already satisfied: multidict<7.0,>=4.5 in /usr/local/lib/python3.10/dist-packages (from aiohttp->datasets) (6.1.0)\n",
            "Requirement already satisfied: yarl<2.0,>=1.12.0 in /usr/local/lib/python3.10/dist-packages (from aiohttp->datasets) (1.17.0)\n",
            "Requirement already satisfied: async-timeout<5.0,>=4.0 in /usr/local/lib/python3.10/dist-packages (from aiohttp->datasets) (4.0.3)\n",
            "Requirement already satisfied: typing-extensions>=3.7.4.3 in /usr/local/lib/python3.10/dist-packages (from huggingface-hub>=0.23.0->datasets) (4.12.2)\n",
            "Requirement already satisfied: six>=1.5 in /usr/local/lib/python3.10/dist-packages (from python-dateutil>=2.8.2->pandas) (1.16.0)\n",
            "Requirement already satisfied: charset-normalizer<4,>=2 in /usr/local/lib/python3.10/dist-packages (from requests>=2.32.2->datasets) (3.4.0)\n",
            "Requirement already satisfied: idna<4,>=2.5 in /usr/local/lib/python3.10/dist-packages (from requests>=2.32.2->datasets) (3.10)\n",
            "Requirement already satisfied: urllib3<3,>=1.21.1 in /usr/local/lib/python3.10/dist-packages (from requests>=2.32.2->datasets) (2.2.3)\n",
            "Requirement already satisfied: certifi>=2017.4.17 in /usr/local/lib/python3.10/dist-packages (from requests>=2.32.2->datasets) (2024.8.30)\n",
            "Requirement already satisfied: propcache>=0.2.0 in /usr/local/lib/python3.10/dist-packages (from yarl<2.0,>=1.12.0->aiohttp->datasets) (0.2.0)\n"
          ]
        }
      ],
      "source": [
        "!pip install pandas pyarrow\n",
        "!pip install datasets\n",
        "!pip install datasets pandas matplotlib pillow"
      ]
    },
    {
      "cell_type": "markdown",
      "source": [
        "# набор данных"
      ],
      "metadata": {
        "id": "1z7ees-mmdym"
      }
    },
    {
      "cell_type": "code",
      "execution_count": 14,
      "metadata": {
        "colab": {
          "base_uri": "https://localhost:8080/"
        },
        "id": "De1jaQvE75lO",
        "outputId": "9faef87b-db23-4ec3-889c-c3fdfae9c8dd"
      },
      "outputs": [
        {
          "output_type": "stream",
          "name": "stdout",
          "text": [
            "Dataset({\n",
            "    features: ['image', 'text'],\n",
            "    num_rows: 25915\n",
            "})\n",
            "{'image': Image(mode=None, decode=True, id=None), 'text': Value(dtype='string', id=None)}\n"
          ]
        }
      ],
      "source": [
        "from datasets import load_dataset, concatenate_datasets\n",
        "\n",
        "# Загрузка отдельных датасетов\n",
        "#dataset1 = load_dataset(\"logo-wizard/modern-logo-dataset\")  # Первый датасет /банят при иследовании\n",
        "#dataset2 = load_dataset(\"iamkaikai/amazing_logos_v4\")       # Второй датосет / сверх долгая загрузка, я не могу столько ждать\n",
        "dataset3 = load_dataset(\"Babypotatotang/logo-splitted\")      # Третий датасет /банят при иследовании\n",
        "#dataset4 = load_dataset(\"iamkaikai/amazing_logos\")           # Четвертый датасет\n",
        "dataset5 = load_dataset(\"AngelUrq/logos\")                     # Пятый датасет\n",
        "dataset6 = load_dataset(\"salmonhumorous/logo-blip-caption\")   # Шестой датасет\n",
        "dataset7 = load_dataset(\"mdass/gpt_gen_desc_logos\")           # Седьмой датасет\n",
        "\n",
        "# Объединение всех датасетов в один\n",
        "combined_dataset = concatenate_datasets([\n",
        "    #dataset1['train'],\n",
        "    #dataset2['train'],\n",
        "    dataset3['train'],\n",
        "    #dataset4['train'],\n",
        "    dataset5['train'],\n",
        "    dataset6['train'],\n",
        "    dataset7['train']\n",
        "])\n",
        "\n",
        "# Вывод информации о новом объединенном датасете\n",
        "print(combined_dataset)\n",
        "print(combined_dataset.features)\n"
      ]
    },
    {
      "cell_type": "markdown",
      "source": [],
      "metadata": {
        "id": "Y-iVMh7ZX2P1"
      }
    },
    {
      "cell_type": "markdown",
      "source": [
        "# Разведочный анализ данных (CV)"
      ],
      "metadata": {
        "id": "lUU8Vje2n1M2"
      }
    },
    {
      "cell_type": "code",
      "execution_count": 15,
      "metadata": {
        "colab": {
          "base_uri": "https://localhost:8080/"
        },
        "id": "h2rp4LDyVpEe",
        "outputId": "c14b859f-d03c-49fb-ea47-08223d758412",
        "collapsed": true
      },
      "outputs": [
        {
          "output_type": "stream",
          "name": "stdout",
          "text": [
            "Widths length: 25915\n",
            "Heights length: 25915\n",
            "BBoxes length: 25915\n",
            "              width        height\n",
            "count  25915.000000  25915.000000\n",
            "mean     266.433378    266.433378\n",
            "std       39.658086     39.658086\n",
            "min      174.000000    174.000000\n",
            "25%      256.000000    256.000000\n",
            "50%      256.000000    256.000000\n",
            "75%      256.000000    256.000000\n",
            "max      512.000000    512.000000\n"
          ]
        }
      ],
      "source": [
        "import pandas as pd\n",
        "from PIL import Image\n",
        "\n",
        "# Функция для получения размеров изображений и боксов\n",
        "def analyze_images(combined_dataset):\n",
        "    widths = []\n",
        "    heights = []\n",
        "    bboxes = []\n",
        "\n",
        "    for example in combined_dataset:\n",
        "        # Проверяем, является ли image объектом или путем\n",
        "        if isinstance(example['image'], Image.Image):\n",
        "            img = example['image']  # Если это объект изображения\n",
        "        else:\n",
        "            img = Image.open(example['image'])  # Если это путь к изображению\n",
        "\n",
        "        # Получаем размеры\n",
        "        widths.append(img.width)\n",
        "        heights.append(img.height)\n",
        "\n",
        "        # Если есть боксы, добавляем их, иначе добавляем None или пустой список\n",
        "        if 'bbox' in example:\n",
        "            bboxes.append(example['bbox'])\n",
        "        else:\n",
        "            bboxes.append(None)  # Или [] если хотите использовать пустой список\n",
        "\n",
        "    return widths, heights, bboxes\n",
        "\n",
        "# Запуск функции анализа\n",
        "widths, heights, bboxes = analyze_images(combined_dataset)\n",
        "\n",
        "# Проверка длин списков\n",
        "print(f\"Widths length: {len(widths)}\")\n",
        "print(f\"Heights length: {len(heights)}\")\n",
        "print(f\"BBoxes length: {len(bboxes)}\")\n",
        "\n",
        "# Создание DataFrame для анализа\n",
        "image_data = pd.DataFrame({'width': widths, 'height': heights, 'bbox': bboxes})\n",
        "\n",
        "# Расчет статистики\n",
        "print(image_data.describe())\n"
      ]
    },
    {
      "cell_type": "code",
      "execution_count": 16,
      "metadata": {
        "colab": {
          "base_uri": "https://localhost:8080/"
        },
        "id": "1lb6b0JpVpHM",
        "outputId": "1b714ccb-1133-4a02-ad73-f76da8c59b1b"
      },
      "outputs": [
        {
          "output_type": "stream",
          "name": "stdout",
          "text": [
            "Mean channels: [164.71010055 162.51124748 161.95379311]\n",
            "Standard deviation channels: [66.74467587 65.89467053 64.69760354]\n"
          ]
        }
      ],
      "source": [
        "import numpy as np\n",
        "from PIL import Image\n",
        "\n",
        "def calculate_channel_stats(combined_dataset, target_size=(224, 224)):\n",
        "    channel_means = []\n",
        "    channel_stds = []\n",
        "\n",
        "    for example in combined_dataset:\n",
        "        if isinstance(example['image'], Image.Image):\n",
        "            img = example['image']\n",
        "        else:\n",
        "            img = Image.open(example['image'])\n",
        "\n",
        "        # Изменяем размер изображения\n",
        "        img = img.resize(target_size)\n",
        "\n",
        "        # Преобразуем изображение в массив numpy\n",
        "        img_array = np.array(img)\n",
        "\n",
        "        # Проверяем количество каналов\n",
        "        if img_array.ndim == 2:  # Если изображение в градациях серого\n",
        "            img_array = np.stack((img_array,) * 3, axis=-1)  # Дублируем канал\n",
        "        elif img_array.shape[2] == 4:  # Если изображение имеет альфа-канал\n",
        "            img_array = img_array[:, :, :3]  # Убираем альфа-канал\n",
        "\n",
        "        # Проверка на количество каналов\n",
        "        if img_array.shape[2] != 3:\n",
        "            raise ValueError(\"Image does not have 3 channels (RGB).\")\n",
        "\n",
        "        # Вычисляем средние значения и стандартные отклонения по каналам\n",
        "        means = img_array.mean(axis=(0, 1))  # Среднее по высоте и ширине\n",
        "        stds = img_array.std(axis=(0, 1))    # Стандартное отклонение по высоте и ширине\n",
        "\n",
        "        channel_means.append(means)\n",
        "        channel_stds.append(stds)\n",
        "\n",
        "    # Преобразуем списки в массивы NumPy\n",
        "    channel_means = np.array(channel_means)\n",
        "    channel_stds = np.array(channel_stds)\n",
        "\n",
        "    return np.mean(channel_means, axis=0), np.mean(channel_stds, axis=0)\n",
        "\n",
        "# Запуск функции для вычисления статистики по каналам\n",
        "mean_channels, std_channels = calculate_channel_stats(combined_dataset)\n",
        "\n",
        "print(\"Mean channels:\", mean_channels)\n",
        "print(\"Standard deviation channels:\", std_channels)\n",
        "\n"
      ]
    },
    {
      "cell_type": "code",
      "source": [
        "\n",
        "def analyze_images(combined_dataset):\n",
        "    widths = []\n",
        "    heights = []\n",
        "    bboxes = []\n",
        "\n",
        "    for example in combined_dataset:\n",
        "        if isinstance(example['image'], Image.Image):\n",
        "            img = example['image']\n",
        "        else:\n",
        "            img = Image.open(example['image'])\n",
        "\n",
        "        widths.append(img.width)\n",
        "        heights.append(img.height)\n",
        "\n",
        "        if 'bbox' in example:\n",
        "            bboxes.append(example['bbox'])\n",
        "        else:\n",
        "            bboxes.append(None)\n",
        "\n",
        "    # Вывод отладочной информации\n",
        "    print(\"Widths collected:\", widths)\n",
        "    print(\"Heights collected:\", heights)\n",
        "    print(\"Bounding boxes collected:\", bboxes)\n",
        "\n",
        "    return widths, heights, bboxes"
      ],
      "metadata": {
        "id": "sLKNQORKJL7e"
      },
      "execution_count": 44,
      "outputs": []
    },
    {
      "cell_type": "code",
      "execution_count": 17,
      "metadata": {
        "id": "MGDEftDPVpMV",
        "colab": {
          "base_uri": "https://localhost:8080/"
        },
        "outputId": "6cfffa0f-c82d-492e-a4fc-8eca5ea7487f"
      },
      "outputs": [
        {
          "output_type": "stream",
          "name": "stdout",
          "text": [
            "{'image': Image(mode=None, decode=True, id=None), 'text': Value(dtype='string', id=None)}\n"
          ]
        }
      ],
      "source": [
        " print(combined_dataset.features)"
      ]
    },
    {
      "cell_type": "code",
      "execution_count": 53,
      "metadata": {
        "id": "qxi0retuVpPI",
        "colab": {
          "base_uri": "https://localhost:8080/",
          "height": 1000
        },
        "outputId": "198ea341-63f8-472f-a0a8-c0ce5b3252c6"
      },
      "outputs": [
        {
          "output_type": "display_data",
          "data": {
            "text/plain": [
              "<Figure size 1200x600 with 2 Axes>"
            ],
            "image/png": "[encoded data removed]"
          },
          "metadata": {}
        },
        {
          "output_type": "display_data",
          "data": {
            "text/plain": [
              "<Figure size 800x800 with 1 Axes>"
            ],
            "image/png": "[encoded data removed]"
          },
          "metadata": {}
        }
      ],
      "source": [
        "import pandas as pd\n",
        "import numpy as np\n",
        "import matplotlib.pyplot as plt\n",
        "import seaborn as sns\n",
        "\n",
        "\n",
        "# Визуализация распределения ширины и высоты изображений\n",
        "plt.figure(figsize=(12, 6))\n",
        "\n",
        "# Гистограмма ширины изображений\n",
        "plt.subplot(1, 2, 1)\n",
        "sns.histplot(image_data['width'], bins=30, kde=True)\n",
        "plt.title('Distribution of Image Widths')\n",
        "plt.xlabel('Width')\n",
        "plt.ylabel('Frequency')\n",
        "\n",
        "# Гистограмма высоты изображений\n",
        "plt.subplot(1, 2, 2)\n",
        "sns.histplot(image_data['height'], bins=30, kde=True)\n",
        "plt.title('Distribution of Image Heights')\n",
        "plt.xlabel('Height')\n",
        "plt.ylabel('Frequency')\n",
        "\n",
        "plt.tight_layout()\n",
        "plt.show()\n",
        "\n",
        "# Визуализация размеров изображений в виде точечного графика\n",
        "plt.figure(figsize=(8, 8))\n",
        "plt.scatter(image_data['width'], image_data['height'], alpha=0.5)\n",
        "plt.title('Image Width vs Height')\n",
        "plt.xlabel('Width')\n",
        "plt.ylabel('Height')\n",
        "plt.xlim(0, image_data['width'].max() + 50)  # Увеличьте пределы для лучшего представления\n",
        "plt.ylim(0, image_data['height'].max() + 50)\n",
        "plt.grid(True)\n",
        "plt.show()\n",
        "\n",
        "# Если есть боксы, можно визуализировать их также\n",
        "if any(bboxes):  # Проверяем, есть ли боксы\n",
        "    bbox_lengths = [len(bbox) if bbox is not None else 0 for bbox in bboxes]\n",
        "\n",
        "    plt.figure(figsize=(8, 6))\n",
        "    sns.histplot(bbox_lengths, bins=30)\n",
        "    plt.title('Distribution of Bounding Box Lengths')\n",
        "    plt.xlabel('Number of Bounding Boxes')\n",
        "    plt.ylabel('Frequency')\n",
        "    plt.show()"
      ]
    },
    {
      "cell_type": "markdown",
      "source": [
        "# Шаг 2. Разведочный анализ данных (NLP)"
      ],
      "metadata": {
        "id": "a-uhmtLsphEM"
      }
    },
    {
      "cell_type": "code",
      "source": [
        "combined_dataset = concatenate_datasets([\n",
        "    #dataset1['train'],\n",
        "    #dataset2['train'],\n",
        "    dataset3['train'],\n",
        "    #dataset4['train'],\n",
        "    dataset5['train'],\n",
        "    dataset6['train'],\n",
        "    dataset7['train']\n",
        "])\n",
        "\n",
        "# Вывод информации о новом объединенном датасете\n",
        "print(combined_dataset)\n",
        "print(combined_dataset.features)"
      ],
      "metadata": {
        "colab": {
          "base_uri": "https://localhost:8080/"
        },
        "id": "9jxMMQI0qN4m",
        "outputId": "6376383f-e39c-4846-bef4-160dabcbeba5"
      },
      "execution_count": 6,
      "outputs": [
        {
          "output_type": "stream",
          "name": "stdout",
          "text": [
            "Dataset({\n",
            "    features: ['image', 'text'],\n",
            "    num_rows: 25915\n",
            "})\n",
            "{'image': Image(mode=None, decode=True, id=None), 'text': Value(dtype='string', id=None)}\n"
          ]
        }
      ]
    },
    {
      "cell_type": "code",
      "source": [
        "import pandas as pd\n",
        "import numpy as np\n",
        "import matplotlib.pyplot as plt\n",
        "import seaborn as sns"
      ],
      "metadata": {
        "id": "IgXNHbLSqdX1"
      },
      "execution_count": 9,
      "outputs": []
    },
    {
      "cell_type": "code",
      "execution_count": 10,
      "metadata": {
        "id": "YAOz1MBIVpRv",
        "colab": {
          "base_uri": "https://localhost:8080/",
          "height": 489
        },
        "outputId": "13685380-39cf-4c13-cc7e-89826693fb75"
      },
      "outputs": [
        {
          "output_type": "stream",
          "name": "stdout",
          "text": [
            "Average Length: 78.67385683966815, Min Length: 6, Max Length: 443\n"
          ]
        },
        {
          "output_type": "display_data",
          "data": {
            "text/plain": [
              "<Figure size 640x480 with 1 Axes>"
            ],
            "image/png": "[encoded data removed]"
          },
          "metadata": {}
        }
      ],
      "source": [
        "\n",
        "# создаем DataFrame\n",
        "df = pd.DataFrame(combined_dataset)\n",
        "\n",
        "# 'text' (проверьте название колонки)\n",
        "df['length'] = df['text'].apply(len)\n",
        "\n",
        "# Расчет средней, минимальной и максимальной длины текстов\n",
        "average_length = df['length'].mean()\n",
        "min_length = df['length'].min()\n",
        "max_length = df['length'].max()\n",
        "\n",
        "print(f'Average Length: {average_length}, Min Length: {min_length}, Max Length: {max_length}')\n",
        "\n",
        "# Визуализация распределения длины текстов\n",
        "sns.histplot(df['length'], bins=30, kde=True)\n",
        "plt.title('Distribution of Text Lengths')\n",
        "plt.xlabel('Length of Text')\n",
        "plt.ylabel('Frequency')\n",
        "plt.show()"
      ]
    },
    {
      "cell_type": "code",
      "execution_count": 12,
      "metadata": {
        "id": "EIqj_AoIVpUO",
        "colab": {
          "base_uri": "https://localhost:8080/"
        },
        "outputId": "240bff68-4ecd-43ad-c4b5-6ef1bfb8e753"
      },
      "outputs": [
        {
          "output_type": "stream",
          "name": "stdout",
          "text": [
            "Total Characters: 2038833, Average Characters per Text: 78.67385683966815\n",
            "Total Words: 295742, Average Words per Text: 11.41200077175381\n"
          ]
        }
      ],
      "source": [
        "# Статистика по символам\n",
        "total_chars = df['text'].str.len().sum()\n",
        "avg_chars_per_text = df['text'].str.len().mean()\n",
        "\n",
        "print(f'Total Characters: {total_chars}, Average Characters per Text: {avg_chars_per_text}')\n",
        "\n",
        "# Статистика по словам\n",
        "total_words = df['text'].str.split().str.len().sum()\n",
        "avg_words_per_text = df['text'].str.split().str.len().mean()\n",
        "\n",
        "print(f'Total Words: {total_words}, Average Words per Text: {avg_words_per_text}')\n"
      ]
    },
    {
      "cell_type": "code",
      "execution_count": 13,
      "metadata": {
        "id": "mhjHkl8YVpW1",
        "colab": {
          "base_uri": "https://localhost:8080/"
        },
        "outputId": "1fb144e2-20f3-4384-ead7-eedd0ebb466c"
      },
      "outputs": [
        {
          "output_type": "stream",
          "name": "stdout",
          "text": [
            "Collecting ru-core-news-sm==3.7.0\n",
            "  Downloading https://github.com/explosion/spacy-models/releases/download/ru_core_news_sm-3.7.0/ru_core_news_sm-3.7.0-py3-none-any.whl (15.3 MB)\n",
            "\u001b[2K     \u001b[90m━━━━━━━━━━━━━━━━━━━━━━━━━━━━━━━━━━━━━━━━\u001b[0m \u001b[32m15.3/15.3 MB\u001b[0m \u001b[31m62.1 MB/s\u001b[0m eta \u001b[36m0:00:00\u001b[0m\n",
            "\u001b[?25hRequirement already satisfied: spacy<3.8.0,>=3.7.0 in /usr/local/lib/python3.10/dist-packages (from ru-core-news-sm==3.7.0) (3.7.5)\n",
            "Requirement already satisfied: pymorphy3>=1.0.0 in /usr/local/lib/python3.10/dist-packages (from ru-core-news-sm==3.7.0) (2.0.2)\n",
            "Requirement already satisfied: dawg-python>=0.7.1 in /usr/local/lib/python3.10/dist-packages (from pymorphy3>=1.0.0->ru-core-news-sm==3.7.0) (0.7.2)\n",
            "Requirement already satisfied: pymorphy3-dicts-ru in /usr/local/lib/python3.10/dist-packages (from pymorphy3>=1.0.0->ru-core-news-sm==3.7.0) (2.4.417150.4580142)\n",
            "Requirement already satisfied: spacy-legacy<3.1.0,>=3.0.11 in /usr/local/lib/python3.10/dist-packages (from spacy<3.8.0,>=3.7.0->ru-core-news-sm==3.7.0) (3.0.12)\n",
            "Requirement already satisfied: spacy-loggers<2.0.0,>=1.0.0 in /usr/local/lib/python3.10/dist-packages (from spacy<3.8.0,>=3.7.0->ru-core-news-sm==3.7.0) (1.0.5)\n",
            "Requirement already satisfied: murmurhash<1.1.0,>=0.28.0 in /usr/local/lib/python3.10/dist-packages (from spacy<3.8.0,>=3.7.0->ru-core-news-sm==3.7.0) (1.0.10)\n",
            "Requirement already satisfied: cymem<2.1.0,>=2.0.2 in /usr/local/lib/python3.10/dist-packages (from spacy<3.8.0,>=3.7.0->ru-core-news-sm==3.7.0) (2.0.8)\n",
            "Requirement already satisfied: preshed<3.1.0,>=3.0.2 in /usr/local/lib/python3.10/dist-packages (from spacy<3.8.0,>=3.7.0->ru-core-news-sm==3.7.0) (3.0.9)\n",
            "Requirement already satisfied: thinc<8.3.0,>=8.2.2 in /usr/local/lib/python3.10/dist-packages (from spacy<3.8.0,>=3.7.0->ru-core-news-sm==3.7.0) (8.2.5)\n",
            "Requirement already satisfied: wasabi<1.2.0,>=0.9.1 in /usr/local/lib/python3.10/dist-packages (from spacy<3.8.0,>=3.7.0->ru-core-news-sm==3.7.0) (1.1.3)\n",
            "Requirement already satisfied: srsly<3.0.0,>=2.4.3 in /usr/local/lib/python3.10/dist-packages (from spacy<3.8.0,>=3.7.0->ru-core-news-sm==3.7.0) (2.4.8)\n",
            "Requirement already satisfied: catalogue<2.1.0,>=2.0.6 in /usr/local/lib/python3.10/dist-packages (from spacy<3.8.0,>=3.7.0->ru-core-news-sm==3.7.0) (2.0.10)\n",
            "Requirement already satisfied: weasel<0.5.0,>=0.1.0 in /usr/local/lib/python3.10/dist-packages (from spacy<3.8.0,>=3.7.0->ru-core-news-sm==3.7.0) (0.4.1)\n",
            "Requirement already satisfied: typer<1.0.0,>=0.3.0 in /usr/local/lib/python3.10/dist-packages (from spacy<3.8.0,>=3.7.0->ru-core-news-sm==3.7.0) (0.12.5)\n",
            "Requirement already satisfied: tqdm<5.0.0,>=4.38.0 in /usr/local/lib/python3.10/dist-packages (from spacy<3.8.0,>=3.7.0->ru-core-news-sm==3.7.0) (4.66.6)\n",
            "Requirement already satisfied: requests<3.0.0,>=2.13.0 in /usr/local/lib/python3.10/dist-packages (from spacy<3.8.0,>=3.7.0->ru-core-news-sm==3.7.0) (2.32.3)\n",
            "Requirement already satisfied: pydantic!=1.8,!=1.8.1,<3.0.0,>=1.7.4 in /usr/local/lib/python3.10/dist-packages (from spacy<3.8.0,>=3.7.0->ru-core-news-sm==3.7.0) (2.9.2)\n",
            "Requirement already satisfied: jinja2 in /usr/local/lib/python3.10/dist-packages (from spacy<3.8.0,>=3.7.0->ru-core-news-sm==3.7.0) (3.1.4)\n",
            "Requirement already satisfied: setuptools in /usr/local/lib/python3.10/dist-packages (from spacy<3.8.0,>=3.7.0->ru-core-news-sm==3.7.0) (75.1.0)\n",
            "Requirement already satisfied: packaging>=20.0 in /usr/local/lib/python3.10/dist-packages (from spacy<3.8.0,>=3.7.0->ru-core-news-sm==3.7.0) (24.1)\n",
            "Requirement already satisfied: langcodes<4.0.0,>=3.2.0 in /usr/local/lib/python3.10/dist-packages (from spacy<3.8.0,>=3.7.0->ru-core-news-sm==3.7.0) (3.4.1)\n",
            "Requirement already satisfied: numpy>=1.19.0 in /usr/local/lib/python3.10/dist-packages (from spacy<3.8.0,>=3.7.0->ru-core-news-sm==3.7.0) (1.26.4)\n",
            "Requirement already satisfied: language-data>=1.2 in /usr/local/lib/python3.10/dist-packages (from langcodes<4.0.0,>=3.2.0->spacy<3.8.0,>=3.7.0->ru-core-news-sm==3.7.0) (1.2.0)\n",
            "Requirement already satisfied: annotated-types>=0.6.0 in /usr/local/lib/python3.10/dist-packages (from pydantic!=1.8,!=1.8.1,<3.0.0,>=1.7.4->spacy<3.8.0,>=3.7.0->ru-core-news-sm==3.7.0) (0.7.0)\n",
            "Requirement already satisfied: pydantic-core==2.23.4 in /usr/local/lib/python3.10/dist-packages (from pydantic!=1.8,!=1.8.1,<3.0.0,>=1.7.4->spacy<3.8.0,>=3.7.0->ru-core-news-sm==3.7.0) (2.23.4)\n",
            "Requirement already satisfied: typing-extensions>=4.6.1 in /usr/local/lib/python3.10/dist-packages (from pydantic!=1.8,!=1.8.1,<3.0.0,>=1.7.4->spacy<3.8.0,>=3.7.0->ru-core-news-sm==3.7.0) (4.12.2)\n",
            "Requirement already satisfied: charset-normalizer<4,>=2 in /usr/local/lib/python3.10/dist-packages (from requests<3.0.0,>=2.13.0->spacy<3.8.0,>=3.7.0->ru-core-news-sm==3.7.0) (3.4.0)\n",
            "Requirement already satisfied: idna<4,>=2.5 in /usr/local/lib/python3.10/dist-packages (from requests<3.0.0,>=2.13.0->spacy<3.8.0,>=3.7.0->ru-core-news-sm==3.7.0) (3.10)\n",
            "Requirement already satisfied: urllib3<3,>=1.21.1 in /usr/local/lib/python3.10/dist-packages (from requests<3.0.0,>=2.13.0->spacy<3.8.0,>=3.7.0->ru-core-news-sm==3.7.0) (2.2.3)\n",
            "Requirement already satisfied: certifi>=2017.4.17 in /usr/local/lib/python3.10/dist-packages (from requests<3.0.0,>=2.13.0->spacy<3.8.0,>=3.7.0->ru-core-news-sm==3.7.0) (2024.8.30)\n",
            "Requirement already satisfied: blis<0.8.0,>=0.7.8 in /usr/local/lib/python3.10/dist-packages (from thinc<8.3.0,>=8.2.2->spacy<3.8.0,>=3.7.0->ru-core-news-sm==3.7.0) (0.7.11)\n",
            "Requirement already satisfied: confection<1.0.0,>=0.0.1 in /usr/local/lib/python3.10/dist-packages (from thinc<8.3.0,>=8.2.2->spacy<3.8.0,>=3.7.0->ru-core-news-sm==3.7.0) (0.1.5)\n",
            "Requirement already satisfied: click>=8.0.0 in /usr/local/lib/python3.10/dist-packages (from typer<1.0.0,>=0.3.0->spacy<3.8.0,>=3.7.0->ru-core-news-sm==3.7.0) (8.1.7)\n",
            "Requirement already satisfied: shellingham>=1.3.0 in /usr/local/lib/python3.10/dist-packages (from typer<1.0.0,>=0.3.0->spacy<3.8.0,>=3.7.0->ru-core-news-sm==3.7.0) (1.5.4)\n",
            "Requirement already satisfied: rich>=10.11.0 in /usr/local/lib/python3.10/dist-packages (from typer<1.0.0,>=0.3.0->spacy<3.8.0,>=3.7.0->ru-core-news-sm==3.7.0) (13.9.3)\n",
            "Requirement already satisfied: cloudpathlib<1.0.0,>=0.7.0 in /usr/local/lib/python3.10/dist-packages (from weasel<0.5.0,>=0.1.0->spacy<3.8.0,>=3.7.0->ru-core-news-sm==3.7.0) (0.20.0)\n",
            "Requirement already satisfied: smart-open<8.0.0,>=5.2.1 in /usr/local/lib/python3.10/dist-packages (from weasel<0.5.0,>=0.1.0->spacy<3.8.0,>=3.7.0->ru-core-news-sm==3.7.0) (7.0.5)\n",
            "Requirement already satisfied: MarkupSafe>=2.0 in /usr/local/lib/python3.10/dist-packages (from jinja2->spacy<3.8.0,>=3.7.0->ru-core-news-sm==3.7.0) (3.0.2)\n",
            "Requirement already satisfied: marisa-trie>=0.7.7 in /usr/local/lib/python3.10/dist-packages (from language-data>=1.2->langcodes<4.0.0,>=3.2.0->spacy<3.8.0,>=3.7.0->ru-core-news-sm==3.7.0) (1.2.1)\n",
            "Requirement already satisfied: markdown-it-py>=2.2.0 in /usr/local/lib/python3.10/dist-packages (from rich>=10.11.0->typer<1.0.0,>=0.3.0->spacy<3.8.0,>=3.7.0->ru-core-news-sm==3.7.0) (3.0.0)\n",
            "Requirement already satisfied: pygments<3.0.0,>=2.13.0 in /usr/local/lib/python3.10/dist-packages (from rich>=10.11.0->typer<1.0.0,>=0.3.0->spacy<3.8.0,>=3.7.0->ru-core-news-sm==3.7.0) (2.18.0)\n",
            "Requirement already satisfied: wrapt in /usr/local/lib/python3.10/dist-packages (from smart-open<8.0.0,>=5.2.1->weasel<0.5.0,>=0.1.0->spacy<3.8.0,>=3.7.0->ru-core-news-sm==3.7.0) (1.16.0)\n",
            "Requirement already satisfied: mdurl~=0.1 in /usr/local/lib/python3.10/dist-packages (from markdown-it-py>=2.2.0->rich>=10.11.0->typer<1.0.0,>=0.3.0->spacy<3.8.0,>=3.7.0->ru-core-news-sm==3.7.0) (0.1.2)\n",
            "\u001b[38;5;2m✔ Download and installation successful\u001b[0m\n",
            "You can now load the package via spacy.load('ru_core_news_sm')\n",
            "\u001b[38;5;3m⚠ Restart to reload dependencies\u001b[0m\n",
            "If you are in a Jupyter or Colab notebook, you may need to restart Python in\n",
            "order to load all the package's dependencies. You can do this by selecting the\n",
            "'Restart kernel' or 'Restart runtime' option.\n"
          ]
        }
      ],
      "source": [
        "!python -m spacy download ru_core_news_sm"
      ]
    },
    {
      "cell_type": "code",
      "execution_count": null,
      "metadata": {
        "id": "NldMVB1CVpZZ"
      },
      "outputs": [],
      "source": [
        "import spacy\n",
        "\n",
        "nlp = spacy.load('ru_core_news_sm')  # Загрузите модель для нужного языка\n",
        "\n",
        "# Частеречная разметка\n",
        "pos_tags = [token.pos_ for text in df['text'] for token in nlp(text)]\n",
        "pos_freq = Counter(pos_tags)\n",
        "\n",
        "print(\"Most Common POS Tags:\", pos_freq.most_common(10))"
      ]
    },
    {
      "cell_type": "code",
      "execution_count": null,
      "metadata": {
        "id": "w4SThw1YVpb-"
      },
      "outputs": [],
      "source": [
        "# Проверка наличия метаинформации\n",
        "if 'date' in df.columns:\n",
        "    df['date'] = pd.to_datetime(df['date'])  # Преобразование в datetime\n",
        "    df['year'] = df['date'].dt.year\n",
        "\n",
        "    # Корреляция между метаинформацией и длиной текста\n",
        "    correlation = df[['length', 'year']].corr()\n",
        "    print(\"Correlation between length and year:\", correlation)"
      ]
    },
    {
      "cell_type": "code",
      "execution_count": null,
      "metadata": {
        "id": "fP8cmoGlVpen"
      },
      "outputs": [],
      "source": [
        "if 'label' in df.columns:\n",
        "    sns.countplot(x='label', data=df)\n",
        "    plt.title('Class Distribution')\n",
        "    plt.show()"
      ]
    },
    {
      "cell_type": "code",
      "execution_count": null,
      "metadata": {
        "id": "xqRmlg2fVphW"
      },
      "outputs": [],
      "source": [
        "from wordcloud import WordCloud\n",
        "\n",
        "wordcloud = WordCloud(width=800, height=400).generate(' '.join(all_words))\n",
        "plt.imshow(wordcloud, interpolation='bilinear')\n",
        "plt.axis('off')\n",
        "plt.title('Word Cloud of Most Frequent Words')\n",
        "plt.show()"
      ]
    },
    {
      "cell_type": "code",
      "execution_count": null,
      "metadata": {
        "id": "FtQBs4Y5VpkH"
      },
      "outputs": [],
      "source": [
        "from sklearn.manifold import TSNE\n",
        "\n",
        "# Преобразование текстов в векторы (например, с использованием TF-IDF)\n",
        "from sklearn.feature_extraction.text import TfidfVectorizer\n",
        "\n",
        "tfidf_vectorizer = TfidfVectorizer()\n",
        "tfidf_matrix = tfidf_vectorizer.fit_transform(df['text'])\n",
        "\n",
        "tsne = TSNE(n_components=2, random_state=42)\n",
        "tsne_results = tsne.fit_transform(tfidf_matrix.toarray())\n",
        "\n",
        "plt.scatter(tsne_results[:, 0], tsne_results[:, 1])\n",
        "plt.title('t-SNE Visualization of Texts')\n",
        "plt.show()\n"
      ]
    },
    {
      "cell_type": "markdown",
      "source": [],
      "metadata": {
        "id": "a65zEGgiq-UU"
      }
    },
    {
      "cell_type": "code",
      "execution_count": null,
      "metadata": {
        "id": "2hdg9aTDVpm0"
      },
      "outputs": [],
      "source": [
        "# Обработка пропусков\n",
        "df.dropna(subset=['text'], inplace=True)\n",
        "\n",
        "# Удаление дубликатов\n",
        "df.drop_duplicates(subset=['text'], inplace=True)"
      ]
    },
    {
      "cell_type": "code",
      "execution_count": null,
      "metadata": {
        "id": "HoPur9QRVppn"
      },
      "outputs": [],
      "source": [
        "import re\n",
        "\n",
        "def clean_text(text):\n",
        "    text = re.sub(r'<.*?>', '', text)  # Удаление HTML-тегов\n",
        "    text = re.sub(r'[^a-zA-Zа-яА-Я0-9s]', '', text)  # Удаление специальных символов\n",
        "    text = text.lower()  # Приведение к нижнему регистру\n",
        "    return text\n",
        "\n",
        "df['cleaned_texts'] = df['text'].apply(clean_text)"
      ]
    },
    {
      "cell_type": "code",
      "execution_count": 11,
      "metadata": {
        "id": "ZPfB1BDyVpsG",
        "colab": {
          "base_uri": "https://localhost:8080/",
          "height": 211
        },
        "outputId": "cacbd557-b3bc-4e6a-9c67-d8225fe79d96"
      },
      "outputs": [
        {
          "output_type": "error",
          "ename": "NameError",
          "evalue": "name 'nltk' is not defined",
          "traceback": [
            "\u001b[0;31m---------------------------------------------------------------------------\u001b[0m",
            "\u001b[0;31mNameError\u001b[0m                                 Traceback (most recent call last)",
            "\u001b[0;32m<ipython-input-11-df7cfaa4ab5d>\u001b[0m in \u001b[0;36m<cell line: 3>\u001b[0;34m()\u001b[0m\n\u001b[1;32m      1\u001b[0m \u001b[0;32mfrom\u001b[0m \u001b[0mnltk\u001b[0m\u001b[0;34m.\u001b[0m\u001b[0mcorpus\u001b[0m \u001b[0;32mimport\u001b[0m \u001b[0mstopwords\u001b[0m\u001b[0;34m\u001b[0m\u001b[0;34m\u001b[0m\u001b[0m\n\u001b[1;32m      2\u001b[0m \u001b[0;34m\u001b[0m\u001b[0m\n\u001b[0;32m----> 3\u001b[0;31m \u001b[0mnltk\u001b[0m\u001b[0;34m.\u001b[0m\u001b[0mdownload\u001b[0m\u001b[0;34m(\u001b[0m\u001b[0;34m'stopwords'\u001b[0m\u001b[0;34m)\u001b[0m\u001b[0;34m\u001b[0m\u001b[0;34m\u001b[0m\u001b[0m\n\u001b[0m\u001b[1;32m      4\u001b[0m \u001b[0mstop_words\u001b[0m \u001b[0;34m=\u001b[0m \u001b[0mset\u001b[0m\u001b[0;34m(\u001b[0m\u001b[0mstopwords\u001b[0m\u001b[0;34m.\u001b[0m\u001b[0mwords\u001b[0m\u001b[0;34m(\u001b[0m\u001b[0;34m'russian'\u001b[0m\u001b[0;34m)\u001b[0m\u001b[0;34m)\u001b[0m  \u001b[0;31m# Замените на нужный язык\u001b[0m\u001b[0;34m\u001b[0m\u001b[0;34m\u001b[0m\u001b[0m\n\u001b[1;32m      5\u001b[0m \u001b[0;34m\u001b[0m\u001b[0m\n",
            "\u001b[0;31mNameError\u001b[0m: name 'nltk' is not defined"
          ]
        }
      ],
      "source": [
        "from nltk.corpus import stopwords\n",
        "\n",
        "nltk.download('stopwords')\n",
        "stop_words = set(stopwords.words('russian'))  # Замените на нужный язык\n",
        "\n",
        "df['tokens'] = df['cleaned_texts'].apply(lambda x: [word for word in x.split() if word not in stop_words])"
      ]
    },
    {
      "cell_type": "code",
      "execution_count": null,
      "metadata": {
        "id": "LiPsBk1XVpu9"
      },
      "outputs": [],
      "source": []
    },
    {
      "cell_type": "code",
      "execution_count": null,
      "metadata": {
        "id": "4VRfAdl2Vpxc"
      },
      "outputs": [],
      "source": []
    },
    {
      "cell_type": "code",
      "execution_count": null,
      "metadata": {
        "id": "L56MwYYqVp0R"
      },
      "outputs": [],
      "source": []
    },
    {
      "cell_type": "code",
      "execution_count": null,
      "metadata": {
        "id": "9TqrY6b_73Do"
      },
      "outputs": [],
      "source": []
    },
    {
      "cell_type": "code",
      "execution_count": null,
      "metadata": {
        "id": "HXlzahpcVp28"
      },
      "outputs": [],
      "source": []
    },
    {
      "cell_type": "code",
      "execution_count": null,
      "metadata": {
        "id": "jxunCAP5Vp5f"
      },
      "outputs": [],
      "source": []
    },
    {
      "cell_type": "code",
      "execution_count": null,
      "metadata": {
        "id": "Eak9GaexVp8U"
      },
      "outputs": [],
      "source": []
    },
    {
      "cell_type": "code",
      "execution_count": null,
      "metadata": {
        "id": "Qi7kNLn9VoKL"
      },
      "outputs": [],
      "source": []
    },
    {
      "cell_type": "code",
      "execution_count": null,
      "metadata": {
        "id": "Jm-Dy_-YViC8"
      },
      "outputs": [],
      "source": []
    }
  ]
}